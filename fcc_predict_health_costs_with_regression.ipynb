{
 "cells": [
  {
   "cell_type": "code",
   "execution_count": 3,
   "metadata": {
    "id": "1rRo8oNqZ-Rj"
   },
   "outputs": [],
   "source": [
    "# Import libraries. You may or may not use all of these.\n",
    "# !pip install -q git+https://github.com/tensorflow/docs\n",
    "import matplotlib.pyplot as plt\n",
    "import numpy as np\n",
    "import pandas as pd\n",
    "\n",
    "try:\n",
    "  # %tensorflow_version only exists in Colab.\n",
    "  %tensorflow_version 2.x\n",
    "except Exception:\n",
    "  pass\n",
    "import tensorflow as tf\n",
    "\n",
    "from tensorflow import keras\n",
    "from tensorflow.keras import layers\n",
    "\n",
    "# import tensorflow_docs as tfdocs\n",
    "# import tensorflow_docs.plots\n",
    "# import tensorflow_docs.modeling"
   ]
  },
  {
   "cell_type": "code",
   "execution_count": 2,
   "metadata": {
    "id": "CiX2FI4gZtTt"
   },
   "outputs": [
    {
     "name": "stdout",
     "output_type": "stream",
     "text": [
      "--2023-02-20 19:49:46--  https://cdn.freecodecamp.org/project-data/health-costs/insurance.csv\n",
      "Resolving cdn.freecodecamp.org (cdn.freecodecamp.org)... 104.26.3.33, 104.26.2.33, 172.67.70.149, ...\n",
      "Connecting to cdn.freecodecamp.org (cdn.freecodecamp.org)|104.26.3.33|:443... connected.\n",
      "HTTP request sent, awaiting response... 200 OK\n",
      "Length: 50264 (49K) [text/csv]\n",
      "Saving to: ‘insurance.csv’\n",
      "\n",
      "insurance.csv       100%[===================>]  49.09K  --.-KB/s    in 0.04s   \n",
      "\n",
      "2023-02-20 19:49:46 (1.13 MB/s) - ‘insurance.csv’ saved [50264/50264]\n",
      "\n"
     ]
    },
    {
     "data": {
      "text/html": [
       "<div>\n",
       "<style scoped>\n",
       "    .dataframe tbody tr th:only-of-type {\n",
       "        vertical-align: middle;\n",
       "    }\n",
       "\n",
       "    .dataframe tbody tr th {\n",
       "        vertical-align: top;\n",
       "    }\n",
       "\n",
       "    .dataframe thead th {\n",
       "        text-align: right;\n",
       "    }\n",
       "</style>\n",
       "<table border=\"1\" class=\"dataframe\">\n",
       "  <thead>\n",
       "    <tr style=\"text-align: right;\">\n",
       "      <th></th>\n",
       "      <th>age</th>\n",
       "      <th>sex</th>\n",
       "      <th>bmi</th>\n",
       "      <th>children</th>\n",
       "      <th>smoker</th>\n",
       "      <th>region</th>\n",
       "      <th>expenses</th>\n",
       "    </tr>\n",
       "  </thead>\n",
       "  <tbody>\n",
       "    <tr>\n",
       "      <th>1333</th>\n",
       "      <td>50</td>\n",
       "      <td>male</td>\n",
       "      <td>31.0</td>\n",
       "      <td>3</td>\n",
       "      <td>no</td>\n",
       "      <td>northwest</td>\n",
       "      <td>10600.55</td>\n",
       "    </tr>\n",
       "    <tr>\n",
       "      <th>1334</th>\n",
       "      <td>18</td>\n",
       "      <td>female</td>\n",
       "      <td>31.9</td>\n",
       "      <td>0</td>\n",
       "      <td>no</td>\n",
       "      <td>northeast</td>\n",
       "      <td>2205.98</td>\n",
       "    </tr>\n",
       "    <tr>\n",
       "      <th>1335</th>\n",
       "      <td>18</td>\n",
       "      <td>female</td>\n",
       "      <td>36.9</td>\n",
       "      <td>0</td>\n",
       "      <td>no</td>\n",
       "      <td>southeast</td>\n",
       "      <td>1629.83</td>\n",
       "    </tr>\n",
       "    <tr>\n",
       "      <th>1336</th>\n",
       "      <td>21</td>\n",
       "      <td>female</td>\n",
       "      <td>25.8</td>\n",
       "      <td>0</td>\n",
       "      <td>no</td>\n",
       "      <td>southwest</td>\n",
       "      <td>2007.95</td>\n",
       "    </tr>\n",
       "    <tr>\n",
       "      <th>1337</th>\n",
       "      <td>61</td>\n",
       "      <td>female</td>\n",
       "      <td>29.1</td>\n",
       "      <td>0</td>\n",
       "      <td>yes</td>\n",
       "      <td>northwest</td>\n",
       "      <td>29141.36</td>\n",
       "    </tr>\n",
       "  </tbody>\n",
       "</table>\n",
       "</div>"
      ],
      "text/plain": [
       "      age     sex   bmi  children smoker     region  expenses\n",
       "1333   50    male  31.0         3     no  northwest  10600.55\n",
       "1334   18  female  31.9         0     no  northeast   2205.98\n",
       "1335   18  female  36.9         0     no  southeast   1629.83\n",
       "1336   21  female  25.8         0     no  southwest   2007.95\n",
       "1337   61  female  29.1         0    yes  northwest  29141.36"
      ]
     },
     "execution_count": 2,
     "metadata": {},
     "output_type": "execute_result"
    }
   ],
   "source": [
    "# Import data\n",
    "!wget https://cdn.freecodecamp.org/project-data/health-costs/insurance.csv\n",
    "dataset = pd.read_csv('insurance.csv')\n",
    "dataset.tail()"
   ]
  },
  {
   "cell_type": "code",
   "execution_count": 5,
   "metadata": {},
   "outputs": [],
   "source": [
    "# split data into x (features) and y (labels)\n",
    "x = dataset.copy()\n",
    "y = x.pop('expenses')"
   ]
  },
  {
   "cell_type": "code",
   "execution_count": 6,
   "metadata": {},
   "outputs": [
    {
     "data": {
      "text/plain": [
       "((1338, 6), (1338,))"
      ]
     },
     "execution_count": 6,
     "metadata": {},
     "output_type": "execute_result"
    }
   ],
   "source": [
    "x.shape, y.shape"
   ]
  },
  {
   "cell_type": "code",
   "execution_count": 8,
   "metadata": {
    "id": "LcopvQh3X-kX"
   },
   "outputs": [],
   "source": [
    "from sklearn.compose import make_column_transformer\n",
    "from sklearn.preprocessing import MinMaxScaler, OneHotEncoder\n",
    "from sklearn.model_selection import train_test_split\n",
    "\n",
    "# Create a column transformer\n",
    "ct = make_column_transformer(\n",
    "    # normalize all numerical columns to values between 0 and 1\n",
    "    (MinMaxScaler(), ['age', 'bmi', 'children']),\n",
    "    # one-hot encode the categorical columns\n",
    "    (OneHotEncoder(handle_unknown='ignore'), ['sex', 'smoker', 'region'])\n",
    ")"
   ]
  },
  {
   "cell_type": "code",
   "execution_count": 20,
   "metadata": {},
   "outputs": [],
   "source": [
    "# Split into train and test sets\n",
    "train_dataset_raw, test_dataset_raw, train_labels, test_labels = train_test_split(x, y, test_size=0.2, random_state=42)"
   ]
  },
  {
   "cell_type": "code",
   "execution_count": 21,
   "metadata": {},
   "outputs": [
    {
     "data": {
      "text/html": [
       "<style>#sk-container-id-3 {color: black;background-color: white;}#sk-container-id-3 pre{padding: 0;}#sk-container-id-3 div.sk-toggleable {background-color: white;}#sk-container-id-3 label.sk-toggleable__label {cursor: pointer;display: block;width: 100%;margin-bottom: 0;padding: 0.3em;box-sizing: border-box;text-align: center;}#sk-container-id-3 label.sk-toggleable__label-arrow:before {content: \"▸\";float: left;margin-right: 0.25em;color: #696969;}#sk-container-id-3 label.sk-toggleable__label-arrow:hover:before {color: black;}#sk-container-id-3 div.sk-estimator:hover label.sk-toggleable__label-arrow:before {color: black;}#sk-container-id-3 div.sk-toggleable__content {max-height: 0;max-width: 0;overflow: hidden;text-align: left;background-color: #f0f8ff;}#sk-container-id-3 div.sk-toggleable__content pre {margin: 0.2em;color: black;border-radius: 0.25em;background-color: #f0f8ff;}#sk-container-id-3 input.sk-toggleable__control:checked~div.sk-toggleable__content {max-height: 200px;max-width: 100%;overflow: auto;}#sk-container-id-3 input.sk-toggleable__control:checked~label.sk-toggleable__label-arrow:before {content: \"▾\";}#sk-container-id-3 div.sk-estimator input.sk-toggleable__control:checked~label.sk-toggleable__label {background-color: #d4ebff;}#sk-container-id-3 div.sk-label input.sk-toggleable__control:checked~label.sk-toggleable__label {background-color: #d4ebff;}#sk-container-id-3 input.sk-hidden--visually {border: 0;clip: rect(1px 1px 1px 1px);clip: rect(1px, 1px, 1px, 1px);height: 1px;margin: -1px;overflow: hidden;padding: 0;position: absolute;width: 1px;}#sk-container-id-3 div.sk-estimator {font-family: monospace;background-color: #f0f8ff;border: 1px dotted black;border-radius: 0.25em;box-sizing: border-box;margin-bottom: 0.5em;}#sk-container-id-3 div.sk-estimator:hover {background-color: #d4ebff;}#sk-container-id-3 div.sk-parallel-item::after {content: \"\";width: 100%;border-bottom: 1px solid gray;flex-grow: 1;}#sk-container-id-3 div.sk-label:hover label.sk-toggleable__label {background-color: #d4ebff;}#sk-container-id-3 div.sk-serial::before {content: \"\";position: absolute;border-left: 1px solid gray;box-sizing: border-box;top: 0;bottom: 0;left: 50%;z-index: 0;}#sk-container-id-3 div.sk-serial {display: flex;flex-direction: column;align-items: center;background-color: white;padding-right: 0.2em;padding-left: 0.2em;position: relative;}#sk-container-id-3 div.sk-item {position: relative;z-index: 1;}#sk-container-id-3 div.sk-parallel {display: flex;align-items: stretch;justify-content: center;background-color: white;position: relative;}#sk-container-id-3 div.sk-item::before, #sk-container-id-3 div.sk-parallel-item::before {content: \"\";position: absolute;border-left: 1px solid gray;box-sizing: border-box;top: 0;bottom: 0;left: 50%;z-index: -1;}#sk-container-id-3 div.sk-parallel-item {display: flex;flex-direction: column;z-index: 1;position: relative;background-color: white;}#sk-container-id-3 div.sk-parallel-item:first-child::after {align-self: flex-end;width: 50%;}#sk-container-id-3 div.sk-parallel-item:last-child::after {align-self: flex-start;width: 50%;}#sk-container-id-3 div.sk-parallel-item:only-child::after {width: 0;}#sk-container-id-3 div.sk-dashed-wrapped {border: 1px dashed gray;margin: 0 0.4em 0.5em 0.4em;box-sizing: border-box;padding-bottom: 0.4em;background-color: white;}#sk-container-id-3 div.sk-label label {font-family: monospace;font-weight: bold;display: inline-block;line-height: 1.2em;}#sk-container-id-3 div.sk-label-container {text-align: center;}#sk-container-id-3 div.sk-container {/* jupyter's `normalize.less` sets `[hidden] { display: none; }` but bootstrap.min.css set `[hidden] { display: none !important; }` so we also need the `!important` here to be able to override the default hidden behavior on the sphinx rendered scikit-learn.org. See: https://github.com/scikit-learn/scikit-learn/issues/21755 */display: inline-block !important;position: relative;}#sk-container-id-3 div.sk-text-repr-fallback {display: none;}</style><div id=\"sk-container-id-3\" class=\"sk-top-container\"><div class=\"sk-text-repr-fallback\"><pre>ColumnTransformer(transformers=[(&#x27;minmaxscaler&#x27;, MinMaxScaler(),\n",
       "                                 [&#x27;age&#x27;, &#x27;bmi&#x27;, &#x27;children&#x27;]),\n",
       "                                (&#x27;onehotencoder&#x27;,\n",
       "                                 OneHotEncoder(handle_unknown=&#x27;ignore&#x27;),\n",
       "                                 [&#x27;sex&#x27;, &#x27;smoker&#x27;, &#x27;region&#x27;])])</pre><b>In a Jupyter environment, please rerun this cell to show the HTML representation or trust the notebook. <br />On GitHub, the HTML representation is unable to render, please try loading this page with nbviewer.org.</b></div><div class=\"sk-container\" hidden><div class=\"sk-item sk-dashed-wrapped\"><div class=\"sk-label-container\"><div class=\"sk-label sk-toggleable\"><input class=\"sk-toggleable__control sk-hidden--visually\" id=\"sk-estimator-id-11\" type=\"checkbox\" ><label for=\"sk-estimator-id-11\" class=\"sk-toggleable__label sk-toggleable__label-arrow\">ColumnTransformer</label><div class=\"sk-toggleable__content\"><pre>ColumnTransformer(transformers=[(&#x27;minmaxscaler&#x27;, MinMaxScaler(),\n",
       "                                 [&#x27;age&#x27;, &#x27;bmi&#x27;, &#x27;children&#x27;]),\n",
       "                                (&#x27;onehotencoder&#x27;,\n",
       "                                 OneHotEncoder(handle_unknown=&#x27;ignore&#x27;),\n",
       "                                 [&#x27;sex&#x27;, &#x27;smoker&#x27;, &#x27;region&#x27;])])</pre></div></div></div><div class=\"sk-parallel\"><div class=\"sk-parallel-item\"><div class=\"sk-item\"><div class=\"sk-label-container\"><div class=\"sk-label sk-toggleable\"><input class=\"sk-toggleable__control sk-hidden--visually\" id=\"sk-estimator-id-12\" type=\"checkbox\" ><label for=\"sk-estimator-id-12\" class=\"sk-toggleable__label sk-toggleable__label-arrow\">minmaxscaler</label><div class=\"sk-toggleable__content\"><pre>[&#x27;age&#x27;, &#x27;bmi&#x27;, &#x27;children&#x27;]</pre></div></div></div><div class=\"sk-serial\"><div class=\"sk-item\"><div class=\"sk-estimator sk-toggleable\"><input class=\"sk-toggleable__control sk-hidden--visually\" id=\"sk-estimator-id-13\" type=\"checkbox\" ><label for=\"sk-estimator-id-13\" class=\"sk-toggleable__label sk-toggleable__label-arrow\">MinMaxScaler</label><div class=\"sk-toggleable__content\"><pre>MinMaxScaler()</pre></div></div></div></div></div></div><div class=\"sk-parallel-item\"><div class=\"sk-item\"><div class=\"sk-label-container\"><div class=\"sk-label sk-toggleable\"><input class=\"sk-toggleable__control sk-hidden--visually\" id=\"sk-estimator-id-14\" type=\"checkbox\" ><label for=\"sk-estimator-id-14\" class=\"sk-toggleable__label sk-toggleable__label-arrow\">onehotencoder</label><div class=\"sk-toggleable__content\"><pre>[&#x27;sex&#x27;, &#x27;smoker&#x27;, &#x27;region&#x27;]</pre></div></div></div><div class=\"sk-serial\"><div class=\"sk-item\"><div class=\"sk-estimator sk-toggleable\"><input class=\"sk-toggleable__control sk-hidden--visually\" id=\"sk-estimator-id-15\" type=\"checkbox\" ><label for=\"sk-estimator-id-15\" class=\"sk-toggleable__label sk-toggleable__label-arrow\">OneHotEncoder</label><div class=\"sk-toggleable__content\"><pre>OneHotEncoder(handle_unknown=&#x27;ignore&#x27;)</pre></div></div></div></div></div></div></div></div></div></div>"
      ],
      "text/plain": [
       "ColumnTransformer(transformers=[('minmaxscaler', MinMaxScaler(),\n",
       "                                 ['age', 'bmi', 'children']),\n",
       "                                ('onehotencoder',\n",
       "                                 OneHotEncoder(handle_unknown='ignore'),\n",
       "                                 ['sex', 'smoker', 'region'])])"
      ]
     },
     "execution_count": 21,
     "metadata": {},
     "output_type": "execute_result"
    }
   ],
   "source": [
    "# fit the column transformer on the training data\n",
    "ct.fit(train_dataset_raw)"
   ]
  },
  {
   "cell_type": "code",
   "execution_count": 24,
   "metadata": {},
   "outputs": [],
   "source": [
    "# Transform the training and test data\n",
    "train_dataset = ct.transform(train_dataset_raw)\n",
    "test_dataset = ct.transform(test_dataset_raw)"
   ]
  },
  {
   "cell_type": "code",
   "execution_count": 25,
   "metadata": {},
   "outputs": [
    {
     "data": {
      "text/plain": [
       "(1070, 268)"
      ]
     },
     "execution_count": 25,
     "metadata": {},
     "output_type": "execute_result"
    }
   ],
   "source": [
    "len(train_dataset), len(test_dataset)"
   ]
  },
  {
   "cell_type": "code",
   "execution_count": 28,
   "metadata": {},
   "outputs": [
    {
     "name": "stdout",
     "output_type": "stream",
     "text": [
      "Epoch 1/100\n",
      "34/34 [==============================] - 0s 765us/step - loss: 13342.4355 - mae: 13342.4355 - mse: 322355488.0000\n",
      "Epoch 2/100\n",
      "34/34 [==============================] - 0s 717us/step - loss: 13331.6250 - mae: 13331.6250 - mse: 322065952.0000\n",
      "Epoch 3/100\n",
      "34/34 [==============================] - 0s 743us/step - loss: 13306.0586 - mae: 13306.0586 - mse: 321373312.0000\n",
      "Epoch 4/100\n",
      "34/34 [==============================] - 0s 695us/step - loss: 13254.8535 - mae: 13254.8535 - mse: 320005728.0000\n",
      "Epoch 5/100\n",
      "34/34 [==============================] - 0s 683us/step - loss: 13167.3184 - mae: 13167.3184 - mse: 317650848.0000\n",
      "Epoch 6/100\n",
      "34/34 [==============================] - 0s 670us/step - loss: 13032.8994 - mae: 13032.8994 - mse: 314035168.0000\n",
      "Epoch 7/100\n",
      "34/34 [==============================] - 0s 682us/step - loss: 12841.2451 - mae: 12841.2451 - mse: 308969920.0000\n",
      "Epoch 8/100\n",
      "34/34 [==============================] - 0s 748us/step - loss: 12582.2383 - mae: 12582.2383 - mse: 302263008.0000\n",
      "Epoch 9/100\n",
      "34/34 [==============================] - 0s 707us/step - loss: 12246.5781 - mae: 12246.5781 - mse: 293680704.0000\n",
      "Epoch 10/100\n",
      "34/34 [==============================] - 0s 704us/step - loss: 11830.9678 - mae: 11830.9678 - mse: 283543296.0000\n",
      "Epoch 11/100\n",
      "34/34 [==============================] - 0s 708us/step - loss: 11350.6611 - mae: 11350.6611 - mse: 271633184.0000\n",
      "Epoch 12/100\n",
      "34/34 [==============================] - 0s 716us/step - loss: 10850.4365 - mae: 10850.4365 - mse: 258599728.0000\n",
      "Epoch 13/100\n",
      "34/34 [==============================] - 0s 663us/step - loss: 10350.2314 - mae: 10350.2314 - mse: 245196768.0000\n",
      "Epoch 14/100\n",
      "34/34 [==============================] - 0s 855us/step - loss: 9852.2148 - mae: 9852.2148 - mse: 231548224.0000\n",
      "Epoch 15/100\n",
      "34/34 [==============================] - 0s 716us/step - loss: 9388.9990 - mae: 9388.9990 - mse: 217950560.0000\n",
      "Epoch 16/100\n",
      "34/34 [==============================] - 0s 686us/step - loss: 8990.5947 - mae: 8990.5947 - mse: 205332992.0000\n",
      "Epoch 17/100\n",
      "34/34 [==============================] - 0s 735us/step - loss: 8662.2959 - mae: 8662.2959 - mse: 193941776.0000\n",
      "Epoch 18/100\n",
      "34/34 [==============================] - 0s 685us/step - loss: 8399.3301 - mae: 8399.3301 - mse: 183817344.0000\n",
      "Epoch 19/100\n",
      "34/34 [==============================] - 0s 720us/step - loss: 8199.5322 - mae: 8199.5322 - mse: 175613952.0000\n",
      "Epoch 20/100\n",
      "34/34 [==============================] - 0s 713us/step - loss: 8061.1250 - mae: 8061.1250 - mse: 168660880.0000\n",
      "Epoch 21/100\n",
      "34/34 [==============================] - 0s 689us/step - loss: 7959.9102 - mae: 7959.9102 - mse: 163329392.0000\n",
      "Epoch 22/100\n",
      "34/34 [==============================] - 0s 694us/step - loss: 7889.9580 - mae: 7889.9580 - mse: 158363792.0000\n",
      "Epoch 23/100\n",
      "34/34 [==============================] - 0s 689us/step - loss: 7830.1074 - mae: 7830.1074 - mse: 154673008.0000\n",
      "Epoch 24/100\n",
      "34/34 [==============================] - 0s 702us/step - loss: 7782.6851 - mae: 7782.6851 - mse: 152239328.0000\n",
      "Epoch 25/100\n",
      "34/34 [==============================] - 0s 855us/step - loss: 7736.0459 - mae: 7736.0459 - mse: 149735520.0000\n",
      "Epoch 26/100\n",
      "34/34 [==============================] - 0s 716us/step - loss: 7692.1860 - mae: 7692.1860 - mse: 147622944.0000\n",
      "Epoch 27/100\n",
      "34/34 [==============================] - 0s 743us/step - loss: 7647.1636 - mae: 7647.1636 - mse: 145195744.0000\n",
      "Epoch 28/100\n",
      "34/34 [==============================] - 0s 694us/step - loss: 7605.2773 - mae: 7605.2773 - mse: 143940704.0000\n",
      "Epoch 29/100\n",
      "34/34 [==============================] - 0s 714us/step - loss: 7559.7007 - mae: 7559.7007 - mse: 141906656.0000\n",
      "Epoch 30/100\n",
      "34/34 [==============================] - 0s 692us/step - loss: 7516.1309 - mae: 7516.1304 - mse: 139900208.0000\n",
      "Epoch 31/100\n",
      "34/34 [==============================] - 0s 687us/step - loss: 7471.6436 - mae: 7471.6436 - mse: 138061008.0000\n",
      "Epoch 32/100\n",
      "34/34 [==============================] - 0s 729us/step - loss: 7426.1064 - mae: 7426.1064 - mse: 136789776.0000\n",
      "Epoch 33/100\n",
      "34/34 [==============================] - 0s 724us/step - loss: 7379.0879 - mae: 7379.0879 - mse: 135242256.0000\n",
      "Epoch 34/100\n",
      "34/34 [==============================] - 0s 763us/step - loss: 7331.0542 - mae: 7331.0542 - mse: 133280544.0000\n",
      "Epoch 35/100\n",
      "34/34 [==============================] - 0s 686us/step - loss: 7280.9736 - mae: 7280.9736 - mse: 131553320.0000\n",
      "Epoch 36/100\n",
      "34/34 [==============================] - 0s 712us/step - loss: 7230.3228 - mae: 7230.3228 - mse: 129662304.0000\n",
      "Epoch 37/100\n",
      "34/34 [==============================] - 0s 738us/step - loss: 7178.1123 - mae: 7178.1123 - mse: 127579088.0000\n",
      "Epoch 38/100\n",
      "34/34 [==============================] - 0s 678us/step - loss: 7124.1929 - mae: 7124.1929 - mse: 125849576.0000\n",
      "Epoch 39/100\n",
      "34/34 [==============================] - 0s 745us/step - loss: 7068.9863 - mae: 7068.9863 - mse: 124042192.0000\n",
      "Epoch 40/100\n",
      "34/34 [==============================] - 0s 696us/step - loss: 7010.9697 - mae: 7010.9697 - mse: 122351776.0000\n",
      "Epoch 41/100\n",
      "34/34 [==============================] - 0s 710us/step - loss: 6951.8545 - mae: 6951.8545 - mse: 120412256.0000\n",
      "Epoch 42/100\n",
      "34/34 [==============================] - 0s 704us/step - loss: 6890.7173 - mae: 6890.7173 - mse: 118528096.0000\n",
      "Epoch 43/100\n",
      "34/34 [==============================] - 0s 676us/step - loss: 6827.3340 - mae: 6827.3340 - mse: 116785712.0000\n",
      "Epoch 44/100\n",
      "34/34 [==============================] - 0s 704us/step - loss: 6759.0776 - mae: 6759.0776 - mse: 114249248.0000\n",
      "Epoch 45/100\n",
      "34/34 [==============================] - 0s 665us/step - loss: 6690.4619 - mae: 6690.4619 - mse: 111882400.0000\n",
      "Epoch 46/100\n",
      "34/34 [==============================] - 0s 699us/step - loss: 6618.7661 - mae: 6618.7661 - mse: 109845728.0000\n",
      "Epoch 47/100\n",
      "34/34 [==============================] - 0s 684us/step - loss: 6543.2734 - mae: 6543.2734 - mse: 108211024.0000\n",
      "Epoch 48/100\n",
      "34/34 [==============================] - 0s 714us/step - loss: 6465.4565 - mae: 6465.4565 - mse: 106150056.0000\n",
      "Epoch 49/100\n",
      "34/34 [==============================] - 0s 702us/step - loss: 6383.4277 - mae: 6383.4277 - mse: 103868360.0000\n",
      "Epoch 50/100\n",
      "34/34 [==============================] - 0s 674us/step - loss: 6295.9751 - mae: 6295.9751 - mse: 101690440.0000\n",
      "Epoch 51/100\n",
      "34/34 [==============================] - 0s 708us/step - loss: 6205.7061 - mae: 6205.7061 - mse: 99000344.0000\n",
      "Epoch 52/100\n",
      "34/34 [==============================] - 0s 862us/step - loss: 6110.5449 - mae: 6110.5449 - mse: 96461160.0000\n",
      "Epoch 53/100\n",
      "34/34 [==============================] - 0s 774us/step - loss: 6011.5205 - mae: 6011.5205 - mse: 94250040.0000\n",
      "Epoch 54/100\n",
      "34/34 [==============================] - 0s 739us/step - loss: 5907.4277 - mae: 5907.4277 - mse: 92355648.0000\n",
      "Epoch 55/100\n",
      "34/34 [==============================] - 0s 696us/step - loss: 5799.3247 - mae: 5799.3247 - mse: 89932000.0000\n",
      "Epoch 56/100\n",
      "34/34 [==============================] - 0s 828us/step - loss: 5686.0283 - mae: 5686.0283 - mse: 87259472.0000\n",
      "Epoch 57/100\n",
      "34/34 [==============================] - 0s 677us/step - loss: 5571.0747 - mae: 5571.0747 - mse: 84552896.0000\n",
      "Epoch 58/100\n",
      "34/34 [==============================] - 0s 700us/step - loss: 5452.3379 - mae: 5452.3379 - mse: 82692680.0000\n",
      "Epoch 59/100\n",
      "34/34 [==============================] - 0s 713us/step - loss: 5328.7227 - mae: 5328.7227 - mse: 80027896.0000\n",
      "Epoch 60/100\n",
      "34/34 [==============================] - 0s 683us/step - loss: 5202.3872 - mae: 5202.3872 - mse: 77628944.0000\n",
      "Epoch 61/100\n",
      "34/34 [==============================] - 0s 664us/step - loss: 5075.2822 - mae: 5075.2822 - mse: 75670512.0000\n",
      "Epoch 62/100\n",
      "34/34 [==============================] - 0s 683us/step - loss: 4944.2671 - mae: 4944.2671 - mse: 73334464.0000\n",
      "Epoch 63/100\n",
      "34/34 [==============================] - 0s 698us/step - loss: 4813.1709 - mae: 4813.1709 - mse: 70621040.0000\n",
      "Epoch 64/100\n",
      "34/34 [==============================] - 0s 784us/step - loss: 4682.4097 - mae: 4682.4097 - mse: 68702712.0000\n",
      "Epoch 65/100\n",
      "34/34 [==============================] - 0s 723us/step - loss: 4558.5366 - mae: 4558.5366 - mse: 66557128.0000\n",
      "Epoch 66/100\n"
     ]
    },
    {
     "name": "stdout",
     "output_type": "stream",
     "text": [
      "34/34 [==============================] - 0s 665us/step - loss: 4439.0464 - mae: 4439.0464 - mse: 65455680.0000\n",
      "Epoch 67/100\n",
      "34/34 [==============================] - 0s 924us/step - loss: 4332.4888 - mae: 4332.4888 - mse: 64409484.0000\n",
      "Epoch 68/100\n",
      "34/34 [==============================] - 0s 691us/step - loss: 4230.6836 - mae: 4230.6836 - mse: 62974292.0000\n",
      "Epoch 69/100\n",
      "34/34 [==============================] - 0s 661us/step - loss: 4136.9502 - mae: 4136.9502 - mse: 61661224.0000\n",
      "Epoch 70/100\n",
      "34/34 [==============================] - 0s 711us/step - loss: 4049.2524 - mae: 4049.2524 - mse: 59430308.0000\n",
      "Epoch 71/100\n",
      "34/34 [==============================] - 0s 682us/step - loss: 3969.2224 - mae: 3969.2224 - mse: 58708388.0000\n",
      "Epoch 72/100\n",
      "34/34 [==============================] - 0s 756us/step - loss: 3900.5925 - mae: 3900.5925 - mse: 57140412.0000\n",
      "Epoch 73/100\n",
      "34/34 [==============================] - 0s 771us/step - loss: 3843.1602 - mae: 3843.1602 - mse: 55708672.0000\n",
      "Epoch 74/100\n",
      "34/34 [==============================] - 0s 662us/step - loss: 3795.2285 - mae: 3795.2285 - mse: 54781596.0000\n",
      "Epoch 75/100\n",
      "34/34 [==============================] - 0s 719us/step - loss: 3758.3945 - mae: 3758.3945 - mse: 53970436.0000\n",
      "Epoch 76/100\n",
      "34/34 [==============================] - 0s 676us/step - loss: 3732.7046 - mae: 3732.7046 - mse: 52724196.0000\n",
      "Epoch 77/100\n",
      "34/34 [==============================] - 0s 679us/step - loss: 3712.8906 - mae: 3712.8906 - mse: 52138208.0000\n",
      "Epoch 78/100\n",
      "34/34 [==============================] - 0s 699us/step - loss: 3699.3250 - mae: 3699.3250 - mse: 51494540.0000\n",
      "Epoch 79/100\n",
      "34/34 [==============================] - 0s 688us/step - loss: 3689.8074 - mae: 3689.8074 - mse: 50826052.0000\n",
      "Epoch 80/100\n",
      "34/34 [==============================] - 0s 705us/step - loss: 3680.5178 - mae: 3680.5178 - mse: 49956912.0000\n",
      "Epoch 81/100\n",
      "34/34 [==============================] - 0s 677us/step - loss: 3674.5671 - mae: 3674.5671 - mse: 49790520.0000\n",
      "Epoch 82/100\n",
      "34/34 [==============================] - 0s 681us/step - loss: 3671.2625 - mae: 3671.2625 - mse: 49329332.0000\n",
      "Epoch 83/100\n",
      "34/34 [==============================] - 0s 672us/step - loss: 3666.5999 - mae: 3666.5999 - mse: 49065084.0000\n",
      "Epoch 84/100\n",
      "34/34 [==============================] - 0s 753us/step - loss: 3663.5701 - mae: 3663.5701 - mse: 48697480.0000\n",
      "Epoch 85/100\n",
      "34/34 [==============================] - 0s 713us/step - loss: 3661.0735 - mae: 3661.0735 - mse: 48505044.0000\n",
      "Epoch 86/100\n",
      "34/34 [==============================] - 0s 660us/step - loss: 3659.0669 - mae: 3659.0669 - mse: 48232516.0000\n",
      "Epoch 87/100\n",
      "34/34 [==============================] - 0s 723us/step - loss: 3655.9104 - mae: 3655.9104 - mse: 47966952.0000\n",
      "Epoch 88/100\n",
      "34/34 [==============================] - 0s 665us/step - loss: 3654.7080 - mae: 3654.7080 - mse: 47702064.0000\n",
      "Epoch 89/100\n",
      "34/34 [==============================] - 0s 722us/step - loss: 3653.1243 - mae: 3653.1243 - mse: 47602340.0000\n",
      "Epoch 90/100\n",
      "34/34 [==============================] - 0s 2ms/step - loss: 3652.1882 - mae: 3652.1882 - mse: 47108964.0000\n",
      "Epoch 91/100\n",
      "34/34 [==============================] - 0s 1ms/step - loss: 3650.6213 - mae: 3650.6213 - mse: 47376464.0000\n",
      "Epoch 92/100\n",
      "34/34 [==============================] - 0s 670us/step - loss: 3649.6855 - mae: 3649.6855 - mse: 46899836.0000\n",
      "Epoch 93/100\n",
      "34/34 [==============================] - 0s 669us/step - loss: 3645.1746 - mae: 3645.1746 - mse: 46868492.0000\n",
      "Epoch 94/100\n",
      "34/34 [==============================] - 0s 688us/step - loss: 3646.6599 - mae: 3646.6599 - mse: 46474172.0000\n",
      "Epoch 95/100\n",
      "34/34 [==============================] - 0s 704us/step - loss: 3643.6311 - mae: 3643.6311 - mse: 46374528.0000\n",
      "Epoch 96/100\n",
      "34/34 [==============================] - 0s 719us/step - loss: 3641.9778 - mae: 3641.9778 - mse: 46355792.0000\n",
      "Epoch 97/100\n",
      "34/34 [==============================] - 0s 690us/step - loss: 3641.2378 - mae: 3641.2378 - mse: 45939060.0000\n",
      "Epoch 98/100\n",
      "34/34 [==============================] - 0s 713us/step - loss: 3637.3115 - mae: 3637.3115 - mse: 45836416.0000\n",
      "Epoch 99/100\n",
      "34/34 [==============================] - 0s 724us/step - loss: 3637.1770 - mae: 3637.1772 - mse: 45671200.0000\n",
      "Epoch 100/100\n",
      "34/34 [==============================] - 0s 728us/step - loss: 3634.2400 - mae: 3634.2400 - mse: 45526764.0000\n"
     ]
    }
   ],
   "source": [
    "# Build a neural network\n",
    "model = keras.models.Sequential([\n",
    "    layers.Dense(100),\n",
    "    layers.Dense(10),\n",
    "    layers.Dense(1)\n",
    "])\n",
    "\n",
    "# Compile the model\n",
    "model.compile(loss=tf.keras.losses.mae,\n",
    "                optimizer=tf.keras.optimizers.Adam(),\n",
    "                metrics=['mae', 'mse'])\n",
    "\n",
    "# Train the model\n",
    "history = model.fit(train_dataset, train_labels, epochs=100)"
   ]
  },
  {
   "cell_type": "code",
   "execution_count": 29,
   "metadata": {
    "id": "Xe7RXH3N3CWU"
   },
   "outputs": [
    {
     "name": "stdout",
     "output_type": "stream",
     "text": [
      "9/9 - 0s - loss: 3442.5229 - mae: 3442.5229 - mse: 41993916.0000 - 68ms/epoch - 8ms/step\n",
      "Testing set Mean Abs Error: 3442.52 expenses\n",
      "You passed the challenge. Great job!\n",
      "9/9 [==============================] - 0s 721us/step\n"
     ]
    },
    {
     "data": {
      "image/png": "[encoded data removed]",
      "text/plain": [
       "<Figure size 640x480 with 1 Axes>"
      ]
     },
     "metadata": {},
     "output_type": "display_data"
    }
   ],
   "source": [
    "# RUN THIS CELL TO TEST YOUR MODEL. DO NOT MODIFY CONTENTS.\n",
    "# Test model by checking how well the model generalizes using the test set.\n",
    "loss, mae, mse = model.evaluate(test_dataset, test_labels, verbose=2)\n",
    "\n",
    "print(\"Testing set Mean Abs Error: {:5.2f} expenses\".format(mae))\n",
    "\n",
    "if mae < 3500:\n",
    "  print(\"You passed the challenge. Great job!\")\n",
    "else:\n",
    "  print(\"The Mean Abs Error must be less than 3500. Keep trying.\")\n",
    "\n",
    "# Plot predictions.\n",
    "test_predictions = model.predict(test_dataset).flatten()\n",
    "\n",
    "a = plt.axes(aspect='equal')\n",
    "plt.scatter(test_labels, test_predictions)\n",
    "plt.xlabel('True values (expenses)')\n",
    "plt.ylabel('Predictions (expenses)')\n",
    "lims = [0, 50000]\n",
    "plt.xlim(lims)\n",
    "plt.ylim(lims)\n",
    "_ = plt.plot(lims,lims)\n"
   ]
  }
 ],
 "metadata": {
  "colab": {
   "collapsed_sections": [],
   "name": "fcc_predict_health_costs_with_regression.ipynb",
   "private_outputs": true,
   "provenance": [],
   "toc_visible": true
  },
  "kernelspec": {
   "display_name": "data-analysis",
   "language": "python",
   "name": "data-analysis"
  },
  "language_info": {
   "codemirror_mode": {
    "name": "ipython",
    "version": 3
   },
   "file_extension": ".py",
   "mimetype": "text/x-python",
   "name": "python",
   "nbconvert_exporter": "python",
   "pygments_lexer": "ipython3",
   "version": "3.10.6"
  }
 },
 "nbformat": 4,
 "nbformat_minor": 1
}
